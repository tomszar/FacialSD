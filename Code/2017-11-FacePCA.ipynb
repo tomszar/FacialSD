{
 "cells": [
  {
   "cell_type": "markdown",
   "metadata": {},
   "source": [
    "# Face PCA"
   ]
  },
  {
   "cell_type": "markdown",
   "metadata": {},
   "source": [
    "This code is to generate the Face PCA as well as to export such database.\n",
    "The workflow follows as this:\n",
    "\n",
    "- Open the necessary files, scripts, and data\n",
    "- Remove the IDs than don't have Covariates or 3D face data\n",
    "- PCA workflow:\n",
    "    - Initial PCA taking a random sample of the same number of males and females, detect outliers using the mahalanobis distance with respect to the origin, and remove them\n",
    "    - New PCA using the non-outliers, and taking random sample of the same number of males and females\n",
    "    - To detect possible differences due to sampling errors, I will sample a number of *n* times and measure the correlation of the PC scores\n",
    "    - If correlation is high enough, take the first result of the PCA\n",
    "- Export final dataset"
   ]
  },
  {
   "cell_type": "markdown",
   "metadata": {},
   "source": [
    "# Preliminaries"
   ]
  },
  {
   "cell_type": "markdown",
   "metadata": {},
   "source": [
    "Locate the corresponding folder and load the database"
   ]
  },
  {
   "cell_type": "code",
   "execution_count": 1,
   "metadata": {},
   "outputs": [
    {
     "name": "stdout",
     "output_type": "stream",
     "text": []
    },
    {
     "name": "stderr",
     "output_type": "stream",
     "text": []
    }
   ],
   "source": [
    "%Folders\n",
    "folder.codePath = 'C:\\Users\\tzarzar\\Box Sync\\Research\\GeneralCode\\Matlab Code';\n",
    "addpath(genpath(folder.codePath));\n",
    "folder.dataPath16 = 'R:\\ShriverLab\\Facial features input files and databases\\PSU_KU_WFS2016';\n",
    "folder.databases  = 'C:\\Users\\tzarzar\\Box Sync\\Research\\FacialSD\\DataBases';\n",
    "folder.results    = 'C:\\Users\\tzarzar\\Box Sync\\Research\\FacialSD\\Results\\FacePCA';\n",
    "cd(folder.dataPath16);\n",
    "load PENNDATA_AccumulatedShapeData; %loading faces (Data)\n",
    "load RefScan; %loading AM (RefScan)\n",
    "load NewMaskIndex; %loading AM trimming index (MaskIndex)\n",
    "crop(RefScan, 'VertexIndex', MaskIndex); %Trimming the RefScan\n",
    "cd(folder.databases);\n",
    "Covariates = readtable('Covariates.csv');"
   ]
  },
  {
   "cell_type": "markdown",
   "metadata": {},
   "source": [
    "Get the intersection between Covariates and face data"
   ]
  },
  {
   "cell_type": "code",
   "execution_count": 2,
   "metadata": {},
   "outputs": [
    {
     "name": "stdout",
     "output_type": "stream",
     "text": [
      "\n",
      "nFaces =\n",
      "\n",
      "        5939\n",
      "\n",
      "\n",
      "nCovariates =\n",
      "\n",
      "        5939\n",
      "\n"
     ]
    },
    {
     "name": "stderr",
     "output_type": "stream",
     "text": []
    }
   ],
   "source": [
    "[keep1, keep2] = GetIntersection(Data, Covariates);\n",
    "Data           = reduceData(Data, keep1);\n",
    "Covariates     = Covariates(keep2, :);\n",
    "nFaces         = length(Data.Names)\n",
    "nCovariates    = length(Covariates.ID)"
   ]
  },
  {
   "cell_type": "markdown",
   "metadata": {},
   "source": [
    "Get the number of males and females in the dataset"
   ]
  },
  {
   "cell_type": "code",
   "execution_count": 3,
   "metadata": {},
   "outputs": [
    {
     "name": "stdout",
     "output_type": "stream",
     "text": [
      "\n",
      "ans =\n",
      "\n",
      "        3617\n",
      "\n",
      "\n",
      "ans =\n",
      "\n",
      "        2284\n",
      "\n"
     ]
    },
    {
     "name": "stderr",
     "output_type": "stream",
     "text": []
    }
   ],
   "source": [
    "sum(strcmp(Covariates.Sex, 'Female'))\n",
    "sum(strcmp(Covariates.Sex, 'Male'))"
   ]
  },
  {
   "cell_type": "markdown",
   "metadata": {},
   "source": [
    "## Getting centroid size"
   ]
  },
  {
   "cell_type": "code",
   "execution_count": 8,
   "metadata": {},
   "outputs": [
    {
     "name": "stdout",
     "output_type": "stream",
     "text": []
    },
    {
     "name": "stderr",
     "output_type": "stream",
     "text": []
    }
   ],
   "source": [
    "CS = zeros(1, size(Data.Shape, 2));\n",
    "for i = 1:size(CS, 2)\n",
    "    obj = meshObj();\n",
    "    obj.Faces    = RefScan.Faces;\n",
    "    obj.Vertices = reshape(Data.Shape(:,i), [3 (size(Data.Shape, 1) / 3)]);\n",
    "    CS(1,i)      = centroidSize(obj);\n",
    "end\n",
    "CS = log(CS);\n",
    "CS(1,CS > 4.6) = \"NA\";"
   ]
  },
  {
   "cell_type": "markdown",
   "metadata": {},
   "source": [
    "## GPA"
   ]
  },
  {
   "cell_type": "markdown",
   "metadata": {},
   "source": [
    "Generalized Procrustes Analysis"
   ]
  },
  {
   "cell_type": "code",
   "execution_count": 9,
   "metadata": {},
   "outputs": [
    {
     "name": "stdout",
     "output_type": "stream",
     "text": [
      "Starting parallel pool (parpool) using the 'local' profile ...\n",
      "connected to 4 workers.\n"
     ]
    },
    {
     "name": "stderr",
     "output_type": "stream",
     "text": []
    }
   ],
   "source": [
    "TotalShape = [Data.Shape, Data.NormShape]; %Concatenation of original faces (Data.Shape) and their reflection (Data.Norm)\n",
    "model      = shapePCA; %Creating an empty shape space object\n",
    "model.RefScan = clone(RefScan); %Defining the AM that was used to create the shape space\n",
    "AlignedData   = LSGenProcrustes(model, TotalShape, true, 3, RefScan);"
   ]
  },
  {
   "cell_type": "markdown",
   "metadata": {},
   "source": [
    "Decomposing faces into components of symmetry and asymmetry"
   ]
  },
  {
   "cell_type": "code",
   "execution_count": 10,
   "metadata": {},
   "outputs": [
    {
     "name": "stdout",
     "output_type": "stream",
     "text": []
    },
    {
     "name": "stderr",
     "output_type": "stream",
     "text": []
    }
   ],
   "source": [
    "OrigHead = AlignedData(:, 1:nFaces);\n",
    "ReflHead = AlignedData(:, nFaces+1:end);\n",
    "SymHead  = (OrigHead + ReflHead)/2; %facial symmetry component\n",
    "AsymHead = (OrigHead - ReflHead) + mean(SymHead, 2); %facial asymmetry component"
   ]
  },
  {
   "cell_type": "code",
   "execution_count": 11,
   "metadata": {},
   "outputs": [
    {
     "name": "stdout",
     "output_type": "stream",
     "text": [
      "\n",
      "ans =\n",
      "\n",
      "       20370        5939\n",
      "\n"
     ]
    },
    {
     "name": "stderr",
     "output_type": "stream",
     "text": []
    }
   ],
   "source": [
    "size(SymHead)"
   ]
  },
  {
   "cell_type": "markdown",
   "metadata": {},
   "source": [
    "Running the Face PCA. I will use a random sample of 2000 males and females"
   ]
  },
  {
   "cell_type": "code",
   "execution_count": 12,
   "metadata": {},
   "outputs": [
    {
     "name": "stdout",
     "output_type": "stream",
     "text": []
    },
    {
     "name": "stderr",
     "output_type": "stream",
     "text": []
    }
   ],
   "source": [
    "%[sample_fem, ind1]  = datasample(SymHead(:,strcmp(Covariates.Sex, 'Female')), 2000, 2);\n",
    "\n",
    "%[sample_male, ind2] = datasample(SymHead(:,strcmp(Covariates.Sex, 'Male')), 2000, 2);\n",
    "%total_sample = [sample_fem sample_male];"
   ]
  },
  {
   "cell_type": "code",
   "execution_count": 13,
   "metadata": {},
   "outputs": [
    {
     "name": "stdout",
     "output_type": "stream",
     "text": []
    },
    {
     "name": "stderr",
     "output_type": "stream",
     "text": []
    }
   ],
   "source": [
    "%vect = [1:size(SymHead(:,strcmp(Covariates.Sex, 'Female')), 2)];\n",
    "%sum(~ismember(vect, ind1))"
   ]
  },
  {
   "cell_type": "code",
   "execution_count": null,
   "metadata": {
    "collapsed": true
   },
   "outputs": [],
   "source": []
  },
  {
   "cell_type": "code",
   "execution_count": 14,
   "metadata": {},
   "outputs": [
    {
     "name": "stdout",
     "output_type": "stream",
     "text": []
    },
    {
     "name": "stderr",
     "output_type": "stream",
     "text": []
    }
   ],
   "source": [
    "%SymHead(:,strcmp(Covariates.Sex, 'Female'))\n"
   ]
  },
  {
   "cell_type": "markdown",
   "metadata": {},
   "source": [
    "## PCA"
   ]
  },
  {
   "cell_type": "code",
   "execution_count": 12,
   "metadata": {},
   "outputs": [
    {
     "name": "stdout",
     "output_type": "stream",
     "text": [
      "\n",
      "model = \n",
      "\n",
      "  shapePCA with properties:\n",
      "\n",
      "    AvgVertices: [3×6790 double]\n",
      "         AvgVec: [20370×1 double]\n",
      "        RefScan: [1×1 meshObj]\n",
      "        Average: [1×1 meshObj]\n",
      "         EigVal: [87×1 double]\n",
      "         EigVec: [20370×87 double]\n",
      "         Tcoeff: [5939×87 double]\n",
      "       AvgCoeff: [87×1 double]\n",
      "      Centering: 1\n",
      "           nrEV: 87\n",
      "         EigStd: [87×1 double]\n",
      "      Explained: [87×1 double]\n",
      "              n: 5939\n",
      "              U: [5939×87 double]\n",
      "              S: [87×1 double]\n",
      "              V: [20370×87 double]\n",
      "           Type: 'shapePCA'\n",
      "\n"
     ]
    },
    {
     "name": "stderr",
     "output_type": "stream",
     "text": []
    }
   ],
   "source": [
    "getAverage(model, SymHead); %Compute the average head\n",
    "getModel(model, SymHead); \n",
    "means = mean(SymHead, 2);\n",
    "stripPercVar(model, 98);\n",
    "model"
   ]
  },
  {
   "cell_type": "code",
   "execution_count": 13,
   "metadata": {},
   "outputs": [
    {
     "name": "stdout",
     "output_type": "stream",
     "text": [
      "\n",
      "ans =\n",
      "\n",
      "   -2.7500   -0.0476    1.4329    1.9755   -0.1145   -0.0344    0.4069   -0.3473    0.3787   -0.0347\n",
      "   -3.0011    0.1057    0.6759    2.1056    1.1979    0.2540   -0.4840   -0.2451   -0.1560    0.6118\n",
      "   -0.9400   -1.4434    1.2838    0.5728   -1.3678    0.4241   -0.2904   -0.1218    0.2807    0.5717\n",
      "   -2.5950    1.3977    0.8939    0.1309    0.5854    1.4701   -0.4995    0.8075   -0.1866   -0.1333\n",
      "    2.5805   -0.0855    0.0949   -0.1114    1.3244    0.6152    0.3337    0.1918    0.0475   -0.3890\n",
      "   -1.5390   -1.3281    2.0045   -0.8951    0.0862    0.0572   -0.8213    0.7036    0.0923   -0.2445\n",
      "    1.2813   -0.2222    1.3759   -2.5794    0.9949    1.3452    0.0238    1.9273   -0.1870   -0.4813\n",
      "    2.0618   -0.1109   -1.0123    0.6022   -0.4662   -0.3614    0.6623   -1.0766   -0.0339    0.7550\n",
      "    0.5504    1.3370   -1.6557   -0.0498    1.3299    0.4508   -0.1899    0.2561   -0.9428   -0.6860\n",
      "    0.9299    0.3762    2.2317   -1.2411    0.2449   -0.1337   -0.7296   -0.0513   -0.7487   -0.2872\n",
      "\n"
     ]
    },
    {
     "name": "stderr",
     "output_type": "stream",
     "text": []
    }
   ],
   "source": [
    "model.Tcoeff(1:10, 1:10)"
   ]
  },
  {
   "cell_type": "markdown",
   "metadata": {},
   "source": [
    "# Removing outliers"
   ]
  },
  {
   "cell_type": "markdown",
   "metadata": {},
   "source": [
    "We will use the mahalanobis distance with respect to the origin as a measure of similarity"
   ]
  },
  {
   "cell_type": "code",
   "execution_count": 14,
   "metadata": {},
   "outputs": [
    {
     "name": "stdout",
     "output_type": "stream",
     "text": [
      "\n",
      "ans =\n",
      "\n",
      "        5939           1\n",
      "\n"
     ]
    },
    {
     "name": "stderr",
     "output_type": "stream",
     "text": []
    }
   ],
   "source": [
    "origin    = zeros(1, size(model.Tcoeff, 2)); \n",
    "mahaldist = sqrt(sum(( (model.Tcoeff ./ model.EigStd') - origin ) .^ 2, 2 ));\n",
    "size(mahaldist)"
   ]
  },
  {
   "cell_type": "markdown",
   "metadata": {},
   "source": [
    "We will define outliers if they are 3 scaled median absolute deviation (MAD) away from the median of the mahaldist distribution.\n",
    "Below you can see the individual IDs identified as outliers"
   ]
  },
  {
   "cell_type": "code",
   "execution_count": 15,
   "metadata": {},
   "outputs": [
    {
     "name": "stdout",
     "output_type": "stream",
     "text": [
      "\n",
      "ans =\n",
      "\n",
      "   213\n",
      "\n",
      "\n",
      "ans =\n",
      "\n",
      "  213×1 cell array\n",
      "\n",
      "    '131203'\n",
      "    '131239'\n",
      "    '132046'\n",
      "    '132047'\n",
      "    '132067'\n",
      "    '140056'\n",
      "    '140103'\n",
      "    '140219'\n",
      "    '140258'\n",
      "    '140478'\n",
      "    '140490'\n",
      "    '140518'\n",
      "    '140697'\n",
      "    '140713'\n",
      "    '140739'\n",
      "    '140909'\n",
      "    '141181'\n",
      "    '141183'\n",
      "    '141188'\n",
      "    '141204'\n",
      "    '141211'\n",
      "    '141248'\n",
      "    '141309'\n",
      "    '141358'\n",
      "    '141378'\n",
      "    '141399'\n",
      "    '141469'\n",
      "    '141502'\n",
      "    '141551'\n",
      "    '141574'\n",
      "    '141956'\n",
      "    '142007'\n",
      "    '143026'\n",
      "    '143293'\n",
      "    '143470'\n",
      "    '143534'\n",
      "    '143551'\n",
      "    '143552'\n",
      "    '143561'\n",
      "    '50238'\n",
      "    '50239'\n",
      "    '50243'\n",
      "    '50248'\n",
      "    '50250'\n",
      "    '50259'\n",
      "    '50275'\n",
      "    '50286'\n",
      "    '50310'\n",
      "    '50313'\n",
      "    '50324'\n",
      "    '50326'\n",
      "    '50347'\n",
      "    '50380'\n",
      "    '50606'\n",
      "    '50630'\n",
      "    '50656'\n",
      "    '50657'\n",
      "    '50670'\n",
      "    '50692'\n",
      "    '50759'\n",
      "    '50791'\n",
      "    '50838'\n",
      "    '50841'\n",
      "    '50910'\n",
      "    '50920'\n",
      "    '50942'\n",
      "    '60032'\n",
      "    '60068'\n",
      "    '60081'\n",
      "    '60141'\n",
      "    '60177'\n",
      "    '60178'\n",
      "    '60190'\n",
      "    '60198'\n",
      "    '60251'\n",
      "    '60252'\n",
      "    '60261'\n",
      "    '60262'\n",
      "    '60271'\n",
      "    '60355'\n",
      "    '60414'\n",
      "    '60520'\n",
      "    '60522'\n",
      "    '60530'\n",
      "    '60539'\n",
      "    '60541'\n",
      "    '60547'\n",
      "    '60557'\n",
      "    '60559'\n",
      "    '60560'\n",
      "    '60566'\n",
      "    '60570'\n",
      "    '60575'\n",
      "    '60578'\n",
      "    '60579'\n",
      "    '60584'\n",
      "    '60585'\n",
      "    '60588'\n",
      "    '60605'\n",
      "    '60611'\n",
      "    '60612'\n",
      "    '60615'\n",
      "    '60620'\n",
      "    '60631'\n",
      "    '60635'\n",
      "    '60639'\n",
      "    '60641'\n",
      "    '60645'\n",
      "    '60657'\n",
      "    '60658'\n",
      "    '60659'\n",
      "    '60664'\n",
      "    '60667'\n",
      "    '60669'\n",
      "    '60670'\n",
      "    '60674'\n",
      "    '60682'\n",
      "    '60691'\n",
      "    '60694'\n",
      "    '60708'\n",
      "    '60710'\n",
      "    '60715'\n",
      "    '60729'\n",
      "    '60730'\n",
      "    '60734'\n",
      "    '60741'\n",
      "    '60746'\n",
      "    '60753'\n",
      "    '60754'\n",
      "    '60761'\n",
      "    '60807'\n",
      "    '60809'\n",
      "    '60810'\n",
      "    '60812'\n",
      "    '60813'\n",
      "    '60814'\n",
      "    '60824'\n",
      "    '60837'\n",
      "    '60838'\n",
      "    '60841'\n",
      "    '61000'\n",
      "    '61005'\n",
      "    '61028'\n",
      "    '61033'\n",
      "    '61034'\n",
      "    '61041'\n",
      "    '61042'\n",
      "    '61058'\n",
      "    '61064'\n",
      "    '61065'\n",
      "    '61066'\n",
      "    '61068'\n",
      "    '61069'\n",
      "    '61536'\n",
      "    '61623'\n",
      "    '62026'\n",
      "    '62523'\n",
      "    '62541'\n",
      "    '62547'\n",
      "    '63065'\n",
      "    '63119'\n",
      "    '63138'\n",
      "    '63158'\n",
      "    '64168'\n",
      "    '64205'\n",
      "    '64330'\n",
      "    '64356'\n",
      "    '64449'\n",
      "    '64570'\n",
      "    '64587'\n",
      "    '64618'\n",
      "    '64690'\n",
      "    '64834'\n",
      "    'CSF041'\n",
      "    'CSM041'\n",
      "    'CVSN007'\n",
      "    'CVSN019'\n",
      "    'CVSN023'\n",
      "    'CVSN031'\n",
      "    'CVSN045'\n",
      "    'CVST283'\n",
      "    'CVST308'\n",
      "    'CVST385'\n",
      "    'CVSV054'\n",
      "    'CVSV063'\n",
      "    'CVSV064'\n",
      "    'CVSV071'\n",
      "    'CVSV083'\n",
      "    'CVSV089'\n",
      "    'CVSV102'\n",
      "    'CVSV112'\n",
      "    'CVSV131'\n",
      "    'CVSV145'\n",
      "    'CVSV156'\n",
      "    'CVSV173'\n",
      "    'FM015'\n",
      "    'FM027'\n",
      "    'RyanCambell(Neutral)'\n",
      "    'SA0011'\n",
      "    'SA0020+2'\n",
      "    'SA0025'\n",
      "    'SA0035'\n",
      "    'SA0040'\n",
      "    'SA0049'\n",
      "    'SA0301'\n",
      "    'T2654'\n",
      "    'T2661'\n",
      "    'T2673'\n",
      "    'T2675'\n",
      "    'T2676'\n",
      "    'T2681'\n",
      "    'T2682'\n",
      "    'T2683'\n",
      "\n"
     ]
    },
    {
     "name": "stderr",
     "output_type": "stream",
     "text": []
    }
   ],
   "source": [
    "sum(isoutlier(mahaldist))\n",
    "Covariates.ID(isoutlier(mahaldist))"
   ]
  },
  {
   "cell_type": "markdown",
   "metadata": {},
   "source": [
    "# Creating database for export"
   ]
  },
  {
   "cell_type": "markdown",
   "metadata": {},
   "source": [
    "Exporting database with the identified outliers removed. \n",
    "Also, we will compute BMI"
   ]
  },
  {
   "cell_type": "code",
   "execution_count": 16,
   "metadata": {},
   "outputs": [
    {
     "name": "stdout",
     "output_type": "stream",
     "text": []
    },
    {
     "name": "stderr",
     "output_type": "stream",
     "text": []
    }
   ],
   "source": [
    "PCnames        = strseq('PC', 1:model.nrEV);\n",
    "Covariates.BMI = Covariates.Weight ./ ( (Covariates.Height ./ 100) .^2);\n",
    "Covariates.CS  = CS';\n",
    "coeffs         = [Covariates, array2table(model.Tcoeff, 'VariableNames', PCnames)];\n",
    "cd(folder.results)\n",
    "csvwrite('eigenvalues.csv', model.EigVal);\n",
    "csvwrite('eigenvectors.csv', model.EigVec);\n",
    "csvwrite('means.csv', means);\n",
    "csvwrite('facets.csv', model.Average.Faces');\n",
    "writetable(coeffs(~isoutlier(mahaldist), :), 'coeffs.csv')"
   ]
  }
 ],
 "metadata": {
  "kernelspec": {
   "display_name": "MATLAB",
   "language": "matlab",
   "name": "imatlab"
  },
  "language_info": {
   "codemirror_mode": "octave",
   "file_extension": ".m",
   "mimetype": "text/x-matlab",
   "name": "matlab",
   "nbconvert_exporter": "imatlab._exporter.MatlabExporter",
   "pygments_lexer": "matlab",
   "version": "9.2.0.538062 (R2017a)"
  }
 },
 "nbformat": 4,
 "nbformat_minor": 2
}
