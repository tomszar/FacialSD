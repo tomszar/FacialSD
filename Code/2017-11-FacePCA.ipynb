{
 "cells": [
  {
   "cell_type": "markdown",
   "metadata": {},
   "source": [
    "# Face PCA"
   ]
  },
  {
   "cell_type": "markdown",
   "metadata": {},
   "source": [
    "This code is to generate the Face PCA as well as to export such database.\n",
    "The workflow follows as this:\n",
    "\n",
    "- Open the necessary files, scripts, and data\n",
    "- Remove the IDs than don't have Covariates or 3D face data\n",
    "- PCA workflow:\n",
    "    - Initial PCA taking a random sample of the same number of males and females, detect outliers using the mahalanobis distance with respect to the origin, and remove them\n",
    "    - New PCA using the non-outliers, and taking random sample of the same number of males and females\n",
    "    - To detect possible differences due to sampling errors, I will sample a number of *n* times and measure the correlation of the PC scores\n",
    "    - If correlation is high enough, take the first result of the PCA\n",
    "- Export final dataset"
   ]
  },
  {
   "cell_type": "markdown",
   "metadata": {},
   "source": [
    "# Preliminaries"
   ]
  },
  {
   "cell_type": "markdown",
   "metadata": {},
   "source": [
    "Locate the corresponding folder and load the database"
   ]
  },
  {
   "cell_type": "code",
   "execution_count": 1,
   "metadata": {},
   "outputs": [
    {
     "name": "stdout",
     "output_type": "stream",
     "text": []
    },
    {
     "name": "stderr",
     "output_type": "stream",
     "text": []
    }
   ],
   "source": [
    "%Folders\n",
    "folder.codePath = 'C:\\Users\\tzarzar\\Box Sync\\Research\\GeneralCode\\Matlab Code';\n",
    "addpath(genpath(folder.codePath));\n",
    "folder.dataPath16 = 'R:\\ShriverLab\\Facial features input files and databases\\PSU_KU_WFS2016';\n",
    "folder.databases  = 'C:\\Users\\tzarzar\\Box Sync\\Research\\FacialSD\\DataBases';\n",
    "folder.results    = 'C:\\Users\\tzarzar\\Box Sync\\Research\\FacialSD\\Results\\FacePCA';\n",
    "cd(folder.dataPath16);\n",
    "load PENNDATA_AccumulatedShapeData; %loading faces (Data)\n",
    "load RefScan; %loading AM (RefScan)\n",
    "load NewMaskIndex; %loading AM trimming index (MaskIndex)\n",
    "crop(RefScan, 'VertexIndex', MaskIndex); %Trimming the RefScan\n",
    "cd(folder.databases);\n",
    "Covariates = readtable('Covariates.csv');"
   ]
  },
  {
   "cell_type": "markdown",
   "metadata": {},
   "source": [
    "Get the intersection between Covariates and face data"
   ]
  },
  {
   "cell_type": "code",
   "execution_count": 2,
   "metadata": {},
   "outputs": [
    {
     "name": "stdout",
     "output_type": "stream",
     "text": [
      "\n",
      "nFaces =\n",
      "\n",
      "        5939\n",
      "\n",
      "\n",
      "nCovariates =\n",
      "\n",
      "        5939\n",
      "\n"
     ]
    },
    {
     "name": "stderr",
     "output_type": "stream",
     "text": []
    }
   ],
   "source": [
    "[keep1, keep2] = GetIntersection(Data, Covariates);\n",
    "Data           = reduceData(Data, keep1);\n",
    "Covariates     = Covariates(keep2, :);\n",
    "nFaces         = length(Data.Names)\n",
    "nCovariates    = length(Covariates.ID)"
   ]
  },
  {
   "cell_type": "markdown",
   "metadata": {},
   "source": [
    "Get the number of males and females in the dataset"
   ]
  },
  {
   "cell_type": "code",
   "execution_count": 3,
   "metadata": {},
   "outputs": [
    {
     "name": "stdout",
     "output_type": "stream",
     "text": [
      "\n",
      "ans =\n",
      "\n",
      "        3617\n",
      "\n",
      "\n",
      "ans =\n",
      "\n",
      "        2284\n",
      "\n"
     ]
    },
    {
     "name": "stderr",
     "output_type": "stream",
     "text": []
    }
   ],
   "source": [
    "sum(strcmp(Covariates.Sex, 'Female'))\n",
    "sum(strcmp(Covariates.Sex, 'Male'))"
   ]
  },
  {
   "cell_type": "markdown",
   "metadata": {},
   "source": [
    "## PCA Analysis and export"
   ]
  },
  {
   "cell_type": "markdown",
   "metadata": {},
   "source": [
    "Generalized Procrustes Analysis"
   ]
  },
  {
   "cell_type": "code",
   "execution_count": 4,
   "metadata": {},
   "outputs": [
    {
     "name": "stdout",
     "output_type": "stream",
     "text": [
      "Starting parallel pool (parpool) using the 'local' profile ...\n",
      "connected to 4 workers.\n"
     ]
    },
    {
     "name": "stderr",
     "output_type": "stream",
     "text": []
    }
   ],
   "source": [
    "TotalShape = [Data.Shape, Data.NormShape]; %Concatenation of original faces (Data.Shape) and their reflection (Data.Norm)\n",
    "model      = shapePCA; %Creating an empty shape space object\n",
    "model.RefScan = clone(RefScan); %Defining the AM that was used to create the shape space\n",
    "AlignedData   = LSGenProcrustes(model, TotalShape, true, 3, RefScan);"
   ]
  },
  {
   "cell_type": "markdown",
   "metadata": {},
   "source": [
    "Decomposing faces into components of symmetry and asymmetry"
   ]
  },
  {
   "cell_type": "code",
   "execution_count": 5,
   "metadata": {},
   "outputs": [
    {
     "name": "stdout",
     "output_type": "stream",
     "text": []
    },
    {
     "name": "stderr",
     "output_type": "stream",
     "text": []
    }
   ],
   "source": [
    "OrigHead = AlignedData(:, 1:nFaces);\n",
    "ReflHead = AlignedData(:, nFaces+1:end);\n",
    "SymHead  = (OrigHead + ReflHead)/2; %facial symmetry component\n",
    "AsymHead = (OrigHead - ReflHead) + mean(SymHead, 2); %facial asymmetry component"
   ]
  },
  {
   "cell_type": "code",
   "execution_count": 6,
   "metadata": {},
   "outputs": [
    {
     "name": "stdout",
     "output_type": "stream",
     "text": [
      "\n",
      "ans =\n",
      "\n",
      "       20370        5939\n",
      "\n"
     ]
    },
    {
     "name": "stderr",
     "output_type": "stream",
     "text": []
    }
   ],
   "source": [
    "size(SymHead)"
   ]
  },
  {
   "cell_type": "markdown",
   "metadata": {},
   "source": [
    "Running the Face PCA. I will use a random sample of 2000 males and females"
   ]
  },
  {
   "cell_type": "code",
   "execution_count": 38,
   "metadata": {},
   "outputs": [
    {
     "name": "stdout",
     "output_type": "stream",
     "text": []
    },
    {
     "name": "stderr",
     "output_type": "stream",
     "text": []
    }
   ],
   "source": [
    "[sample_fem, ind1]  = datasample(SymHead(:,strcmp(Covariates.Sex, 'Female')), 2000, 2);\n",
    "\n",
    "[sample_male, ind2] = datasample(SymHead(:,strcmp(Covariates.Sex, 'Male')), 2000, 2);\n",
    "total_sample = [sample_fem sample_male];"
   ]
  },
  {
   "cell_type": "code",
   "execution_count": 67,
   "metadata": {},
   "outputs": [
    {
     "name": "stdout",
     "output_type": "stream",
     "text": [
      "\n",
      "ans =\n",
      "\n",
      "        2081\n",
      "\n"
     ]
    },
    {
     "name": "stderr",
     "output_type": "stream",
     "text": []
    }
   ],
   "source": [
    "vect = [1:size(SymHead(:,strcmp(Covariates.Sex, 'Female')), 2)];\n",
    "sum(~ismember(vect, ind1))"
   ]
  },
  {
   "cell_type": "code",
   "execution_count": 68,
   "metadata": {},
   "outputs": [
    {
     "name": "stdout",
     "output_type": "stream",
     "text": []
    },
    {
     "name": "stderr",
     "output_type": "stream",
     "text": [
      "Matrix dimensions must agree.\n",
      "\n"
     ]
    }
   ],
   "source": []
  },
  {
   "cell_type": "code",
   "execution_count": 46,
   "metadata": {},
   "outputs": [
    {
     "name": "stdout",
     "output_type": "stream",
     "text": []
    },
    {
     "name": "stderr",
     "output_type": "stream",
     "text": []
    }
   ],
   "source": [
    "SymHead(:,strcmp(Covariates.Sex, 'Female'))\n"
   ]
  },
  {
   "cell_type": "code",
   "execution_count": 29,
   "metadata": {},
   "outputs": [
    {
     "name": "stdout",
     "output_type": "stream",
     "text": [
      "\n",
      "model = \n",
      "\n",
      "  shapePCA with properties:\n",
      "\n",
      "    AvgVertices: [3×6790 double]\n",
      "         AvgVec: [20370×1 double]\n",
      "        RefScan: [1×1 meshObj]\n",
      "        Average: [1×1 meshObj]\n",
      "         EigVal: [82×1 double]\n",
      "         EigVec: [20370×82 double]\n",
      "         Tcoeff: [4000×82 double]\n",
      "       AvgCoeff: [82×1 double]\n",
      "      Centering: 1\n",
      "           nrEV: 82\n",
      "         EigStd: [82×1 double]\n",
      "      Explained: [82×1 double]\n",
      "              n: 4000\n",
      "              U: [4000×82 double]\n",
      "              S: [82×1 double]\n",
      "              V: [20370×82 double]\n",
      "           Type: 'shapePCA'\n",
      "\n"
     ]
    },
    {
     "name": "stderr",
     "output_type": "stream",
     "text": []
    }
   ],
   "source": [
    "getAverage(model, total_sample); %Compute the average head\n",
    "getModel(model, total_sample); \n",
    "means = mean(total_sample, 2);\n",
    "stripPercVar(model, 98);\n",
    "model"
   ]
  },
  {
   "cell_type": "code",
   "execution_count": 35,
   "metadata": {},
   "outputs": [
    {
     "name": "stdout",
     "output_type": "stream",
     "text": [
      "\n",
      "test = \n",
      "\n",
      "  shapePCA with properties:\n",
      "\n",
      "    AvgVertices: [3×6790 double]\n",
      "         AvgVec: [20370×1 double]\n",
      "        RefScan: [1×1 meshObj]\n",
      "        Average: [1×1 meshObj]\n",
      "         EigVal: [1999×1 double]\n",
      "         EigVec: [20370×1999 double]\n",
      "         Tcoeff: [2000×1999 double]\n",
      "       AvgCoeff: [1999×1 double]\n",
      "      Centering: 1\n",
      "           nrEV: 1999\n",
      "         EigStd: [1999×1 double]\n",
      "      Explained: [1999×1 double]\n",
      "              n: 2000\n",
      "              U: [2000×1999 double]\n",
      "              S: [1999×1 double]\n",
      "              V: [20370×1999 double]\n",
      "           Type: 'shapePCA'\n",
      "\n"
     ]
    },
    {
     "name": "stderr",
     "output_type": "stream",
     "text": []
    }
   ],
   "source": [
    "test = getModel(model, sample_fem);\n",
    "test"
   ]
  },
  {
   "cell_type": "code",
   "execution_count": 37,
   "metadata": {},
   "outputs": [
    {
     "name": "stdout",
     "output_type": "stream",
     "text": [
      "\n",
      "ans =\n",
      "\n",
      "   -0.9523   -0.2297   -0.5964   -0.8118    0.9104    0.7378   -0.4918    0.8523   -0.2297    0.4124\n",
      "   -1.8794    1.3152    0.6514   -0.4180    1.7252   -0.2966    0.7007    0.5035   -0.3870    0.7176\n",
      "   -0.8297   -2.1154    0.6421    0.9738    1.3152    0.4682    0.0947    0.3457   -0.0501    0.0312\n",
      "    4.8613   -0.2636    1.2242    1.8354   -1.9837   -1.1129   -0.0856    0.1210    0.9757    0.1344\n",
      "   -1.1315    0.3352    0.4625    0.6495    1.2035    0.5445   -0.2102    0.2990   -0.1373    0.6338\n",
      "    2.8213    0.4656    1.9864   -0.1772    0.0302   -0.6697   -0.3201   -0.0224   -0.5344    0.1551\n",
      "   -0.4231   -0.8728   -1.7936   -0.8094    0.5273    1.0157   -0.9873    0.1954   -0.0399    0.4285\n",
      "    1.3004   -1.1405    2.1615   -1.0495   -0.2186   -0.3949   -1.0823   -0.3709   -0.4467    0.5035\n",
      "    0.7745   -0.8497    0.2355    1.1825   -0.1823    1.1772    0.6210   -0.1214   -0.1099   -0.5191\n",
      "    2.2759   -0.7961   -1.1174    1.4912    1.4782   -0.6309   -0.5524    0.1935   -0.0761   -0.4453\n",
      "\n",
      "\n",
      "ans =\n",
      "\n",
      "   -0.9695   -0.3169   -0.4265   -0.9541    0.9030    0.6363   -0.6350    0.7767   -0.1374    0.4727\n",
      "   -1.8766    1.2905    0.3299   -0.4201    1.6772   -0.4690    0.7854    0.6132   -0.1112    0.8828\n",
      "   -0.7960   -2.0308    1.0268    0.8824    1.2479    0.4585    0.0795    0.4925   -0.0279    0.1500\n",
      "    4.8596    0.1569    1.0158    2.1725   -1.8577   -0.8830   -0.4068   -0.0231    0.9660   -0.2463\n",
      "   -1.1832    0.3429    0.3689    0.5805    1.2241    0.5654   -0.0885    0.3770    0.0935    0.6421\n",
      "    2.8577    0.9881    1.7569    0.0835    0.1845   -0.6638   -0.2671   -0.2618   -0.3728    0.2996\n",
      "   -0.4508   -1.1551   -1.4162   -1.0153    0.5049    1.1190   -1.0381    0.0908    0.0583    0.3508\n",
      "    1.4052   -0.5123    2.3932   -0.8897   -0.0448   -0.4693   -1.0059   -0.7579   -0.0889    0.6268\n",
      "    0.7790   -0.8262    0.3469    1.1637   -0.3244    1.3692    0.7031    0.1764   -0.4824   -0.7235\n",
      "    2.2162   -1.0049   -1.0561    1.5279    1.5026   -0.3414   -0.5710    0.0136   -0.2936   -0.2919\n",
      "\n"
     ]
    },
    {
     "name": "stderr",
     "output_type": "stream",
     "text": []
    }
   ],
   "source": [
    "model.Tcoeff(1:10, 1:10)\n",
    "test.Tcoeff(1:10, 1:10)"
   ]
  },
  {
   "cell_type": "markdown",
   "metadata": {},
   "source": [
    "# Removing outliers"
   ]
  },
  {
   "cell_type": "markdown",
   "metadata": {},
   "source": [
    "We will use the mahalanobis distance with respect to the origin as a measure of similarity"
   ]
  },
  {
   "cell_type": "code",
   "execution_count": 30,
   "metadata": {},
   "outputs": [
    {
     "name": "stdout",
     "output_type": "stream",
     "text": [
      "\n",
      "ans =\n",
      "\n",
      "        4000           1\n",
      "\n"
     ]
    },
    {
     "name": "stderr",
     "output_type": "stream",
     "text": []
    }
   ],
   "source": [
    "origin    = zeros(1, size(model.Tcoeff, 2)); \n",
    "mahaldist = sqrt(sum(( (model.Tcoeff ./ model.EigStd') - origin ) .^ 2, 2 ));\n",
    "size(mahaldist)"
   ]
  },
  {
   "cell_type": "markdown",
   "metadata": {},
   "source": [
    "We will define outliers if they are 3 scaled median absolute deviation (MAD) away from the median of the mahaldist distribution.\n",
    "Below you can see the individual IDs identified as outliers"
   ]
  },
  {
   "cell_type": "code",
   "execution_count": 31,
   "metadata": {},
   "outputs": [
    {
     "name": "stdout",
     "output_type": "stream",
     "text": [
      "\n",
      "ans =\n",
      "\n",
      "   164\n",
      "\n",
      "\n",
      "ans =\n",
      "\n",
      "  164×1 cell array\n",
      "\n",
      "    '13012'\n",
      "    '131038'\n",
      "    '131200'\n",
      "    '131222'\n",
      "    '132033'\n",
      "    '132096'\n",
      "    '140050'\n",
      "    '140061'\n",
      "    '140097'\n",
      "    '140098'\n",
      "    '140117'\n",
      "    '140243'\n",
      "    '140247'\n",
      "    '140340'\n",
      "    '140401'\n",
      "    '140408'\n",
      "    '140411'\n",
      "    '140436'\n",
      "    '140447'\n",
      "    '140481'\n",
      "    '140498'\n",
      "    '140516'\n",
      "    '140537'\n",
      "    '140575'\n",
      "    '140610'\n",
      "    '140629'\n",
      "    '140653'\n",
      "    '140701'\n",
      "    '140758'\n",
      "    '140773'\n",
      "    '140794'\n",
      "    '140805'\n",
      "    '140809'\n",
      "    '140816'\n",
      "    '140817'\n",
      "    '140876'\n",
      "    '140924'\n",
      "    '140954'\n",
      "    '140991'\n",
      "    '140994'\n",
      "    '141005'\n",
      "    '141015'\n",
      "    '141102'\n",
      "    '141107'\n",
      "    '141236'\n",
      "    '141247'\n",
      "    '141294'\n",
      "    '141296'\n",
      "    '141309'\n",
      "    '141312'\n",
      "    '141358'\n",
      "    '141418'\n",
      "    '141421'\n",
      "    '141430'\n",
      "    '141499'\n",
      "    '141522'\n",
      "    '141573'\n",
      "    '141592'\n",
      "    '141596'\n",
      "    '141604'\n",
      "    '141638'\n",
      "    '141737'\n",
      "    '141742'\n",
      "    '141772'\n",
      "    '141820'\n",
      "    '141864'\n",
      "    '141884'\n",
      "    '141913'\n",
      "    '141985'\n",
      "    '141992'\n",
      "    '143016'\n",
      "    '143023'\n",
      "    '143056'\n",
      "    '143060'\n",
      "    '143064'\n",
      "    '143071'\n",
      "    '143105'\n",
      "    '143127'\n",
      "    '143148'\n",
      "    '143150'\n",
      "    '143158'\n",
      "    '143201'\n",
      "    '143207'\n",
      "    '143291'\n",
      "    '143294'\n",
      "    '143295'\n",
      "    '143349'\n",
      "    '143360'\n",
      "    '143402'\n",
      "    '143416'\n",
      "    '143436'\n",
      "    '143468'\n",
      "    '143497'\n",
      "    '143511'\n",
      "    '143513'\n",
      "    '143517'\n",
      "    '143551'\n",
      "    '143565'\n",
      "    '143575'\n",
      "    '143586'\n",
      "    '143603'\n",
      "    '143657'\n",
      "    '143670'\n",
      "    '143675'\n",
      "    '143680'\n",
      "    '143690'\n",
      "    '143753'\n",
      "    '150008'\n",
      "    '50258'\n",
      "    '50299'\n",
      "    '50323'\n",
      "    '50343'\n",
      "    '50352'\n",
      "    '50353'\n",
      "    '50363'\n",
      "    '50616'\n",
      "    '50639'\n",
      "    '50658'\n",
      "    '50707'\n",
      "    '50709'\n",
      "    '50730'\n",
      "    '50756'\n",
      "    '50797'\n",
      "    '50830'\n",
      "    '50924'\n",
      "    '60003'\n",
      "    '60012'\n",
      "    '60032'\n",
      "    '60068'\n",
      "    '60085'\n",
      "    '60103'\n",
      "    '60114'\n",
      "    '60122'\n",
      "    '60129'\n",
      "    '60146'\n",
      "    '60160'\n",
      "    '60215'\n",
      "    '60246'\n",
      "    '60267'\n",
      "    '60292'\n",
      "    '60307'\n",
      "    '60323'\n",
      "    '60333'\n",
      "    '60351'\n",
      "    '60359'\n",
      "    '60392'\n",
      "    '60394'\n",
      "    '60414'\n",
      "    '60430'\n",
      "    '60440'\n",
      "    '60477'\n",
      "    '60542'\n",
      "    '60543'\n",
      "    '60568'\n",
      "    '60640'\n",
      "    '60726'\n",
      "    '60727'\n",
      "    '60744'\n",
      "    '60750'\n",
      "    '60760'\n",
      "    '60808'\n",
      "    '60810'\n",
      "    '61014'\n",
      "    '61022'\n",
      "\n"
     ]
    },
    {
     "name": "stderr",
     "output_type": "stream",
     "text": []
    }
   ],
   "source": [
    "sum(isoutlier(mahaldist))\n",
    "Covariates.ID(isoutlier(mahaldist))"
   ]
  },
  {
   "cell_type": "markdown",
   "metadata": {},
   "source": [
    "# Creating database for export"
   ]
  },
  {
   "cell_type": "markdown",
   "metadata": {},
   "source": [
    "Exporting database with the identified outliers removed. \n",
    "Also, we will compute BMI"
   ]
  },
  {
   "cell_type": "code",
   "execution_count": 19,
   "metadata": {},
   "outputs": [
    {
     "name": "stdout",
     "output_type": "stream",
     "text": []
    },
    {
     "name": "stderr",
     "output_type": "stream",
     "text": []
    }
   ],
   "source": [
    "PCnames        = strseq('PC', 1:model.nrEV);\n",
    "Covariates.BMI = Covariates.Weight ./ ( (Covariates.Height ./ 100) .^2);\n",
    "coeffs         = [Covariates, array2table(model.Tcoeff, 'VariableNames', PCnames)];\n",
    "cd(folder.results)\n",
    "csvwrite('eigenvalues.csv', model.EigVal);\n",
    "csvwrite('eigenvectors.csv', model.EigVec);\n",
    "csvwrite('means.csv', means);\n",
    "csvwrite('facets.csv', model.Average.Faces');\n",
    "writetable(coeffs(~isoutlier(mahaldist), :), 'coeffs.csv')"
   ]
  }
 ],
 "metadata": {
  "kernelspec": {
   "display_name": "MATLAB",
   "language": "matlab",
   "name": "imatlab"
  },
  "language_info": {
   "codemirror_mode": "octave",
   "file_extension": ".m",
   "mimetype": "text/x-matlab",
   "name": "matlab",
   "nbconvert_exporter": "imatlab._exporter.MatlabExporter",
   "pygments_lexer": "matlab",
   "version": "9.2.0.538062 (R2017a)"
  }
 },
 "nbformat": 4,
 "nbformat_minor": 2
}
