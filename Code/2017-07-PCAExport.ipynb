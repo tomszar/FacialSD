{
 "cells": [
  {
   "cell_type": "markdown",
   "metadata": {},
   "source": [
    "# Face PCA export code"
   ]
  },
  {
   "cell_type": "markdown",
   "metadata": {},
   "source": [
    "This code is for PCA analysis of face coordinates and export of that database"
   ]
  },
  {
   "cell_type": "markdown",
   "metadata": {},
   "source": [
    "## Preliminaries"
   ]
  },
  {
   "cell_type": "markdown",
   "metadata": {},
   "source": [
    "Getting the plotly ready, and adding the corresponding folder"
   ]
  },
  {
   "cell_type": "code",
   "execution_count": 1,
   "metadata": {
    "collapsed": false
   },
   "outputs": [
    {
     "name": "stdout",
     "output_type": "stream",
     "text": [
      "\n",
      "Success! You can generate your first offline graph\n",
      "using the 'offline' flag of fig2plotly as follows:\n",
      "\n",
      ">> plot(1:10); fig2plotly(gcf, 'offline', true);\n",
      "\n"
     ]
    },
    {
     "name": "stderr",
     "output_type": "stream",
     "text": []
    }
   ],
   "source": [
    "%Getting ready for plotly\n",
    "imatlab_export_fig('fig2plotly')\n",
    "getplotlyoffline('http://cdn.plot.ly/plotly-latest.min.js')\n",
    "\n",
    "%folders\n",
    "folder.codePath = 'C:\\Users\\tzarzar\\Box Sync\\Research\\GeneralCode\\Matlab Code';\n",
    "addpath(genpath(folder.codePath));\n",
    "folder.dataPath16 = 'R:\\ShriverLab\\Facial features input files and databases\\PSU_KU_WFS2016';\n",
    "folder.databases  = 'C:\\Users\\tzarzar\\Box Sync\\Research\\FacialSD\\DataBases';\n",
    "folder.results    = 'C:\\Users\\tzarzar\\Box Sync\\Research\\FacialSD\\Results\\PCA';"
   ]
  },
  {
   "cell_type": "code",
   "execution_count": 2,
   "metadata": {
    "collapsed": false
   },
   "outputs": [
    {
     "name": "stdout",
     "output_type": "stream",
     "text": []
    },
    {
     "name": "stderr",
     "output_type": "stream",
     "text": []
    }
   ],
   "source": [
    "cd(folder.dataPath16); \n",
    "load PENNDATA_AccumulatedShapeData;% loading faces (Data)\n",
    "load RefScan;% loading AM (RefScan)\n",
    "load NewMaskIndex;% loading AM trimming index; (MaskIndex)\n",
    "crop(RefScan,'VertexIndex',MaskIndex);% trimming the RefScan\n",
    "cd(folder.databases);\n",
    "Covariates = readtable('Covariates.csv');"
   ]
  },
  {
   "cell_type": "code",
   "execution_count": 3,
   "metadata": {
    "collapsed": false
   },
   "outputs": [
    {
     "name": "stdout",
     "output_type": "stream",
     "text": []
    },
    {
     "name": "stderr",
     "output_type": "stream",
     "text": []
    }
   ],
   "source": [
    "[keep1, keep2] = GetIntersection(Data, Covariates); \n",
    "Data           = reduceData(Data,keep1); \n",
    "Covariates     = Covariates(keep2,:);\n",
    "nFaces         = length(Data.Names);"
   ]
  },
  {
   "cell_type": "code",
   "execution_count": 4,
   "metadata": {
    "collapsed": false
   },
   "outputs": [
    {
     "name": "stdout",
     "output_type": "stream",
     "text": [
      "\n",
      "ans =\n",
      "\n",
      "        5939\n",
      "\n",
      "\n",
      "ans =\n",
      "\n",
      "        5939\n",
      "\n"
     ]
    },
    {
     "name": "stderr",
     "output_type": "stream",
     "text": []
    }
   ],
   "source": [
    "length(Covariates.ID) \n",
    "length(Data.Names)"
   ]
  },
  {
   "cell_type": "markdown",
   "metadata": {},
   "source": [
    "## Some descriptive stats"
   ]
  },
  {
   "cell_type": "code",
   "execution_count": 5,
   "metadata": {
    "collapsed": false,
    "scrolled": true
   },
   "outputs": [
    {
     "name": "stdout",
     "output_type": "stream",
     "text": [
      "\n",
      "statsarray =\n",
      "\n",
      "   28.1771  164.0958   64.9914\n",
      "   28.3316  177.5127   79.5394\n",
      "   28.0000  171.1000   69.5500\n",
      "   19.0000  162.3000   60.7000\n",
      "   31.0000  182.0000   76.1000\n",
      "\n",
      "\n",
      "sex =\n",
      "\n",
      "  5×1 cell array\n",
      "\n",
      "    'Female'\n",
      "    'Male'\n",
      "    'Male (identified female)'\n",
      "    'Female (identified male)'\n",
      "    'Male (assigned intersex at birth)'\n",
      "\n"
     ]
    },
    {
     "name": "stderr",
     "output_type": "stream",
     "text": []
    }
   ],
   "source": [
    "[statsarray,sex] = grpstats([Covariates.Age, Covariates.Height, Covariates.Weight], Covariates.Sex,{'mean','gname'})"
   ]
  },
  {
   "cell_type": "markdown",
   "metadata": {},
   "source": [
    "## PCA Analysis and export"
   ]
  },
  {
   "cell_type": "markdown",
   "metadata": {},
   "source": [
    "GPA"
   ]
  },
  {
   "cell_type": "code",
   "execution_count": 6,
   "metadata": {
    "collapsed": false,
    "scrolled": false
   },
   "outputs": [
    {
     "name": "stdout",
     "output_type": "stream",
     "text": [
      "Starting parallel pool (parpool) using the 'local' profile ...\n",
      "connected to 4 workers.\n"
     ]
    },
    {
     "name": "stderr",
     "output_type": "stream",
     "text": []
    }
   ],
   "source": [
    "TotalShape = [Data.Shape Data.NormShape];% concatenation of original faces (Data.Shape) and their reflections (Data.NormShape);\n",
    "model      = shapePCA;% creating an empty shape space object\n",
    "model.RefScan = clone(RefScan);% defining the AM that was used to create the shape space\n",
    "AlignedData   = LSGenProcrustes(model,TotalShape,true,3,RefScan);% run"
   ]
  },
  {
   "cell_type": "markdown",
   "metadata": {},
   "source": [
    "DECOMPOSING FACES INTO COMPONENTS OF SYMMETRY AND ASSYMETRY"
   ]
  },
  {
   "cell_type": "code",
   "execution_count": 7,
   "metadata": {
    "collapsed": false
   },
   "outputs": [
    {
     "name": "stdout",
     "output_type": "stream",
     "text": []
    },
    {
     "name": "stderr",
     "output_type": "stream",
     "text": []
    }
   ],
   "source": [
    "OrigHead = AlignedData(:,1:nFaces);\n",
    "ReflHead = AlignedData(:,nFaces+1:end);\n",
    "SymHead  = (OrigHead+ReflHead)/2;% facial symmetry component\n",
    "AsymHead = (OrigHead-ReflHead)+mean(SymHead,2);% facial asymmetry component"
   ]
  },
  {
   "cell_type": "markdown",
   "metadata": {},
   "source": [
    "Face PCA"
   ]
  },
  {
   "cell_type": "code",
   "execution_count": 8,
   "metadata": {
    "collapsed": false
   },
   "outputs": [
    {
     "name": "stdout",
     "output_type": "stream",
     "text": []
    },
    {
     "name": "stderr",
     "output_type": "stream",
     "text": []
    }
   ],
   "source": [
    "getAverage(model, SymHead);% compute the average shape\n",
    "getModel(model, SymHead);\n",
    "means = mean(SymHead,2);"
   ]
  },
  {
   "cell_type": "code",
   "execution_count": 9,
   "metadata": {
    "collapsed": false
   },
   "outputs": [
    {
     "name": "stdout",
     "output_type": "stream",
     "text": [
      "\n",
      "model = \n",
      "\n",
      "  shapePCA with properties:\n",
      "\n",
      "    AvgVertices: [3×6790 double]\n",
      "         AvgVec: [20370×1 double]\n",
      "        RefScan: [1×1 meshObj]\n",
      "        Average: [1×1 meshObj]\n",
      "         EigVal: [87×1 double]\n",
      "         EigVec: [20370×87 double]\n",
      "         Tcoeff: [5939×87 double]\n",
      "       AvgCoeff: [87×1 double]\n",
      "      Centering: 1\n",
      "           nrEV: 87\n",
      "         EigStd: [87×1 double]\n",
      "      Explained: [87×1 double]\n",
      "              n: 5939\n",
      "              U: [5939×87 double]\n",
      "              S: [87×1 double]\n",
      "              V: [20370×87 double]\n",
      "           Type: 'shapePCA'\n",
      "\n"
     ]
    },
    {
     "name": "stderr",
     "output_type": "stream",
     "text": []
    }
   ],
   "source": [
    "stripPercVar(model, 98); \n",
    "model"
   ]
  },
  {
   "cell_type": "markdown",
   "metadata": {},
   "source": [
    "## Creating database for export"
   ]
  },
  {
   "cell_type": "code",
   "execution_count": 12,
   "metadata": {
    "collapsed": false
   },
   "outputs": [
    {
     "name": "stdout",
     "output_type": "stream",
     "text": []
    },
    {
     "name": "stderr",
     "output_type": "stream",
     "text": []
    }
   ],
   "source": [
    "PCnames = strseq(\"PC\", 1:model.nrEV);\n",
    "coeffs  = [Covariates, array2table(model.Tcoeff, 'VariableNames', PCnames)]; "
   ]
  },
  {
   "cell_type": "code",
   "execution_count": 15,
   "metadata": {
    "collapsed": false
   },
   "outputs": [
    {
     "name": "stdout",
     "output_type": "stream",
     "text": []
    },
    {
     "name": "stderr",
     "output_type": "stream",
     "text": []
    }
   ],
   "source": [
    "cd(folder.results)\n",
    "csvwrite(\"eigenvalues.csv\", model.EigVal)\n",
    "csvwrite(\"eigenvectors.csv\", model.EigVec)\n",
    "csvwrite(\"means.csv\", means)\n",
    "csvwrite(\"facets.csv\", model.Average.Faces')\n",
    "writetable(coeffs,'coeffs.csv')"
   ]
  }
 ],
 "metadata": {
  "kernelspec": {
   "display_name": "MATLAB",
   "language": "matlab",
   "name": "imatlab"
  },
  "language_info": {
   "codemirror_mode": "octave",
   "file_extension": ".m",
   "mimetype": "text/x-matlab",
   "name": "matlab",
   "nbconvert_exporter": "imatlab._exporter.MatlabExporter",
   "pygments_lexer": "matlab",
   "version": "9.2.0.538062 (R2017a)"
  }
 },
 "nbformat": 4,
 "nbformat_minor": 2
}
